{
 "cells": [
  {
   "cell_type": "code",
   "execution_count": 1,
   "metadata": {},
   "outputs": [],
   "source": [
    "from sklearn.mixture import GaussianMixture\n",
    "import numpy as np\n",
    "import matplotlib.pyplot as plt\n",
    "\n",
    "sig1 = 10; sig2 =20; sig3 = 30\n",
    "mean1 = 16; mean2 = 29; mean3 = 15\n",
    "#data = [.47963206,.598739352,.154963462,.493116352,.384218795,.579867973,.257028457,\n",
    "        #.320856474,.008668512,.081899588,.024180703,.072795849,.166085727,.334481889,\n",
    "        #.279321785,.435275282,.262429171,.517632462,.316439148,.44421341]\n",
    "        \n",
    "y1 = np.random.normal(2,4,1000)\n",
    "y2 = np.random.normal(9,2,500)\n",
    "y3 = np.random.normal(5,1,150)\n",
    "Y=np.append(y1,y2)\n",
    "data = np.append(Y,y3)\n",
    "\n",
    "\n",
    "r1 = np.zeros(len(data)); r2 = np.zeros(len(data)); r3 = np.zeros(len(data))\n",
    "p1 = np.zeros(len(data))\n",
    "p1= np.array([.33,.33,.33])\n",
    "P = p1.reshape(1,3)\n",
    "loop = 500\n",
    "M1 = np.zeros(loop)\n",
    "M2 = np.zeros(loop)\n",
    "M3 = np.zeros(loop)\n",
    "\n",
    "\n",
    "def Gpdf(x, m, s):\n",
    "    y = (1/(np.sqrt(2*np.pi)*s))*np.exp(-0.5*(1/s**2)*(x-m)**2)\n",
    "    return y\n",
    "\n",
    "for j in range(loop):\n",
    "    for i in range(len(data)):\n",
    "        r1[i] = P[0,0]* Gpdf(data[i], mean1, sig1)\n",
    "        r2[i] = P[0,1]* Gpdf(data[i], mean2, sig2)\n",
    "        r3[i] = P[0,2]* Gpdf(data[i], mean3, sig3)\n",
    "\n",
    "    deno = np.sum([r1,r2, r3],axis=0)\n",
    "    res1 = r1/deno; res2 = r2/deno\n",
    "    res3 = r3/deno\n",
    "    \n",
    "    mean1 = np.sum(res1*data)/np.sum(res1)\n",
    "    mean2 = np.sum(res2*data)/np.sum(res2)\n",
    "    mean3 = np.sum(res3*data)/np.sum(res3)\n",
    "    \n",
    "    sig1 = np.sqrt(np.sum(res1*(data - mean1)**2)/np.sum(res1))\n",
    "    sig2 = np.sqrt(np.sum(res2*(data - mean2)**2)/np.sum(res2))\n",
    "    sig3 = np.sqrt(np.sum(res3*(data - mean3)**2)/np.sum(res3))\n",
    "    \n",
    "    P[0,0] = np.sum(res1)/len(data)\n",
    "    P[0,1] = np.sum(res2)/len(data)\n",
    "    P[0,2] = np.sum(res3)/len(data)\n",
    "    \n",
    "    M1[j] = mean1\n",
    "    M2[j] = mean2\n",
    "    M3[j] = mean3\n",
    "    \n",
    "    \n",
    "    \n",
    "\n",
    "    \n"
   ]
  },
  {
   "cell_type": "code",
   "execution_count": 2,
   "metadata": {},
   "outputs": [
    {
     "data": {
      "text/plain": [
       "[<matplotlib.lines.Line2D at 0x7fcd03fe12b0>]"
      ]
     },
     "execution_count": 2,
     "metadata": {},
     "output_type": "execute_result"
    },
    {
     "data": {
      "image/png": "[encoded data removed]",
      "text/plain": [
       "<Figure size 432x288 with 1 Axes>"
      ]
     },
     "metadata": {
      "needs_background": "light"
     },
     "output_type": "display_data"
    }
   ],
   "source": [
    "plt.plot(M1)"
   ]
  },
  {
   "cell_type": "code",
   "execution_count": 3,
   "metadata": {},
   "outputs": [
    {
     "data": {
      "text/plain": [
       "[<matplotlib.lines.Line2D at 0x7fcd01ecd3d0>]"
      ]
     },
     "execution_count": 3,
     "metadata": {},
     "output_type": "execute_result"
    },
    {
     "data": {
      "image/png": "[encoded data removed]",
      "text/plain": [
       "<Figure size 432x288 with 1 Axes>"
      ]
     },
     "metadata": {
      "needs_background": "light"
     },
     "output_type": "display_data"
    }
   ],
   "source": [
    "plt.plot(M2)"
   ]
  },
  {
   "cell_type": "code",
   "execution_count": 4,
   "metadata": {},
   "outputs": [
    {
     "data": {
      "text/plain": [
       "[<matplotlib.lines.Line2D at 0x7fcd01e8bc70>]"
      ]
     },
     "execution_count": 4,
     "metadata": {},
     "output_type": "execute_result"
    },
    {
     "data": {
      "image/png": "[encoded data removed]",
      "text/plain": [
       "<Figure size 432x288 with 1 Axes>"
      ]
     },
     "metadata": {
      "needs_background": "light"
     },
     "output_type": "display_data"
    }
   ],
   "source": [
    "plt.plot(M3)"
   ]
  },
  {
   "cell_type": "code",
   "execution_count": null,
   "metadata": {},
   "outputs": [],
   "source": [
    "M3"
   ]
  },
  {
   "cell_type": "code",
   "execution_count": 5,
   "metadata": {},
   "outputs": [
    {
     "data": {
      "text/plain": [
       "array([[0.36602866, 0.19602632, 0.43794502]])"
      ]
     },
     "execution_count": 5,
     "metadata": {},
     "output_type": "execute_result"
    }
   ],
   "source": [
    "P"
   ]
  },
  {
   "cell_type": "code",
   "execution_count": null,
   "metadata": {},
   "outputs": [],
   "source": [
    "0.02803068/0.06222169"
   ]
  },
  {
   "cell_type": "code",
   "execution_count": null,
   "metadata": {},
   "outputs": [],
   "source": [
    "r1[1]/deno[1]"
   ]
  },
  {
   "cell_type": "code",
   "execution_count": null,
   "metadata": {},
   "outputs": [],
   "source": []
  }
 ],
 "metadata": {
  "kernelspec": {
   "display_name": "Python 3.8.5 64-bit",
   "language": "python",
   "name": "python38564bitc89043b2532c4d16ae924f5a79f8e73b"
  },
  "language_info": {
   "codemirror_mode": {
    "name": "ipython",
    "version": 3
   },
   "file_extension": ".py",
   "mimetype": "text/x-python",
   "name": "python",
   "nbconvert_exporter": "python",
   "pygments_lexer": "ipython3",
   "version": "3.8.5"
  }
 },
 "nbformat": 4,
 "nbformat_minor": 2
}
